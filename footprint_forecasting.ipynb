{
 "cells": [
  {
   "cell_type": "code",
   "execution_count": 1,
   "metadata": {},
   "outputs": [],
   "source": [
    "import pandas as pd\n",
    "import numpy as np\n",
    "import matplotlib.pyplot as plt\n",
    "from matplotlib_inline import backend_inline\n",
    "backend_inline.set_matplotlib_formats(\"svg\")\n",
    "import seaborn as sns\n",
    "\n",
    "from sklearn.preprocessing import LabelEncoder\n",
    "from sklearn.ensemble import RandomForestRegressor,GradientBoostingRegressor"
   ]
  },
  {
   "cell_type": "code",
   "execution_count": 2,
   "metadata": {},
   "outputs": [
    {
     "data": {
      "text/html": [
       "<div>\n",
       "<style scoped>\n",
       "    .dataframe tbody tr th:only-of-type {\n",
       "        vertical-align: middle;\n",
       "    }\n",
       "\n",
       "    .dataframe tbody tr th {\n",
       "        vertical-align: top;\n",
       "    }\n",
       "\n",
       "    .dataframe thead th {\n",
       "        text-align: right;\n",
       "    }\n",
       "</style>\n",
       "<table border=\"1\" class=\"dataframe\">\n",
       "  <thead>\n",
       "    <tr style=\"text-align: right;\">\n",
       "      <th></th>\n",
       "      <th>Day</th>\n",
       "      <th>Advertising_Spend</th>\n",
       "      <th>Number_of_Visitors</th>\n",
       "      <th>Average_Session_Duration</th>\n",
       "      <th>Page_Load_Time</th>\n",
       "      <th>Day_of_Week</th>\n",
       "      <th>Impressions</th>\n",
       "    </tr>\n",
       "  </thead>\n",
       "  <tbody>\n",
       "    <tr>\n",
       "      <th>0</th>\n",
       "      <td>2021-10-01</td>\n",
       "      <td>28008.521469</td>\n",
       "      <td>19925</td>\n",
       "      <td>3.54</td>\n",
       "      <td>4.91</td>\n",
       "      <td>Friday</td>\n",
       "      <td>140811</td>\n",
       "    </tr>\n",
       "    <tr>\n",
       "      <th>1</th>\n",
       "      <td>2021-10-02</td>\n",
       "      <td>20812.773757</td>\n",
       "      <td>33385</td>\n",
       "      <td>1.40</td>\n",
       "      <td>3.00</td>\n",
       "      <td>Saturday</td>\n",
       "      <td>82038</td>\n",
       "    </tr>\n",
       "    <tr>\n",
       "      <th>2</th>\n",
       "      <td>2021-10-03</td>\n",
       "      <td>22878.770076</td>\n",
       "      <td>38600</td>\n",
       "      <td>1.33</td>\n",
       "      <td>1.35</td>\n",
       "      <td>Sunday</td>\n",
       "      <td>36693</td>\n",
       "    </tr>\n",
       "    <tr>\n",
       "      <th>3</th>\n",
       "      <td>2021-10-04</td>\n",
       "      <td>11876.136172</td>\n",
       "      <td>19424</td>\n",
       "      <td>3.48</td>\n",
       "      <td>3.12</td>\n",
       "      <td>Monday</td>\n",
       "      <td>76526</td>\n",
       "    </tr>\n",
       "    <tr>\n",
       "      <th>4</th>\n",
       "      <td>2021-10-05</td>\n",
       "      <td>33387.536319</td>\n",
       "      <td>21196</td>\n",
       "      <td>3.48</td>\n",
       "      <td>1.42</td>\n",
       "      <td>Tuesday</td>\n",
       "      <td>124470</td>\n",
       "    </tr>\n",
       "  </tbody>\n",
       "</table>\n",
       "</div>"
      ],
      "text/plain": [
       "         Day  Advertising_Spend  Number_of_Visitors  Average_Session_Duration  \\\n",
       "0 2021-10-01       28008.521469               19925                      3.54   \n",
       "1 2021-10-02       20812.773757               33385                      1.40   \n",
       "2 2021-10-03       22878.770076               38600                      1.33   \n",
       "3 2021-10-04       11876.136172               19424                      3.48   \n",
       "4 2021-10-05       33387.536319               21196                      3.48   \n",
       "\n",
       "   Page_Load_Time Day_of_Week  Impressions  \n",
       "0            4.91      Friday       140811  \n",
       "1            3.00    Saturday        82038  \n",
       "2            1.35      Sunday        36693  \n",
       "3            3.12      Monday        76526  \n",
       "4            1.42     Tuesday       124470  "
      ]
     },
     "execution_count": 2,
     "metadata": {},
     "output_type": "execute_result"
    }
   ],
   "source": [
    "df=pd.read_excel(\"./Data Scientist - Recruitment task - Raw data.xlsx\",\n",
    "                         sheet_name=\"Raw Data\")\n",
    "df.Day=pd.to_datetime(df.Day)\n",
    "foot_print=df.copy()\n",
    "# foot_print.index=foot_print.Day\n",
    "# foot_print.drop(columns=['Day'],\n",
    "#                 axis=1,\n",
    "#                 inplace=True)\n",
    "foot_print.head()"
   ]
  },
  {
   "cell_type": "code",
   "execution_count": 3,
   "metadata": {},
   "outputs": [
    {
     "name": "stdout",
     "output_type": "stream",
     "text": [
      "<class 'pandas.core.frame.DataFrame'>\n",
      "RangeIndex: 1045 entries, 0 to 1044\n",
      "Data columns (total 7 columns):\n",
      " #   Column                    Non-Null Count  Dtype         \n",
      "---  ------                    --------------  -----         \n",
      " 0   Day                       1045 non-null   datetime64[ns]\n",
      " 1   Advertising_Spend         1045 non-null   float64       \n",
      " 2   Number_of_Visitors        1045 non-null   int64         \n",
      " 3   Average_Session_Duration  1045 non-null   float64       \n",
      " 4   Page_Load_Time            1045 non-null   float64       \n",
      " 5   Day_of_Week               1045 non-null   object        \n",
      " 6   Impressions               1045 non-null   int64         \n",
      "dtypes: datetime64[ns](1), float64(3), int64(2), object(1)\n",
      "memory usage: 57.3+ KB\n"
     ]
    }
   ],
   "source": [
    "foot_print.info()"
   ]
  },
  {
   "cell_type": "code",
   "execution_count": 4,
   "metadata": {},
   "outputs": [
    {
     "data": {
      "text/plain": [
       "(1045, 7)"
      ]
     },
     "execution_count": 4,
     "metadata": {},
     "output_type": "execute_result"
    }
   ],
   "source": [
    "foot_print.shape"
   ]
  },
  {
   "cell_type": "code",
   "execution_count": 5,
   "metadata": {},
   "outputs": [
    {
     "data": {
      "text/plain": [
       "Day                         0\n",
       "Advertising_Spend           0\n",
       "Number_of_Visitors          0\n",
       "Average_Session_Duration    0\n",
       "Page_Load_Time              0\n",
       "Day_of_Week                 0\n",
       "Impressions                 0\n",
       "dtype: int64"
      ]
     },
     "execution_count": 5,
     "metadata": {},
     "output_type": "execute_result"
    }
   ],
   "source": [
    "foot_print.isna().sum()"
   ]
  },
  {
   "cell_type": "code",
   "execution_count": 6,
   "metadata": {},
   "outputs": [
    {
     "data": {
      "text/html": [
       "<div>\n",
       "<style scoped>\n",
       "    .dataframe tbody tr th:only-of-type {\n",
       "        vertical-align: middle;\n",
       "    }\n",
       "\n",
       "    .dataframe tbody tr th {\n",
       "        vertical-align: top;\n",
       "    }\n",
       "\n",
       "    .dataframe thead th {\n",
       "        text-align: right;\n",
       "    }\n",
       "</style>\n",
       "<table border=\"1\" class=\"dataframe\">\n",
       "  <thead>\n",
       "    <tr style=\"text-align: right;\">\n",
       "      <th></th>\n",
       "      <th>Day</th>\n",
       "      <th>Advertising_Spend</th>\n",
       "      <th>Number_of_Visitors</th>\n",
       "      <th>Average_Session_Duration</th>\n",
       "      <th>Page_Load_Time</th>\n",
       "      <th>Day_of_Week</th>\n",
       "      <th>Impressions</th>\n",
       "    </tr>\n",
       "  </thead>\n",
       "  <tbody>\n",
       "    <tr>\n",
       "      <th>0</th>\n",
       "      <td>2021-10-01</td>\n",
       "      <td>28008.521469</td>\n",
       "      <td>19925</td>\n",
       "      <td>3.54</td>\n",
       "      <td>4.91</td>\n",
       "      <td>5</td>\n",
       "      <td>140811</td>\n",
       "    </tr>\n",
       "    <tr>\n",
       "      <th>1</th>\n",
       "      <td>2021-10-02</td>\n",
       "      <td>20812.773757</td>\n",
       "      <td>33385</td>\n",
       "      <td>1.40</td>\n",
       "      <td>3.00</td>\n",
       "      <td>6</td>\n",
       "      <td>82038</td>\n",
       "    </tr>\n",
       "    <tr>\n",
       "      <th>2</th>\n",
       "      <td>2021-10-03</td>\n",
       "      <td>22878.770076</td>\n",
       "      <td>38600</td>\n",
       "      <td>1.33</td>\n",
       "      <td>1.35</td>\n",
       "      <td>7</td>\n",
       "      <td>36693</td>\n",
       "    </tr>\n",
       "    <tr>\n",
       "      <th>3</th>\n",
       "      <td>2021-10-04</td>\n",
       "      <td>11876.136172</td>\n",
       "      <td>19424</td>\n",
       "      <td>3.48</td>\n",
       "      <td>3.12</td>\n",
       "      <td>1</td>\n",
       "      <td>76526</td>\n",
       "    </tr>\n",
       "    <tr>\n",
       "      <th>4</th>\n",
       "      <td>2021-10-05</td>\n",
       "      <td>33387.536319</td>\n",
       "      <td>21196</td>\n",
       "      <td>3.48</td>\n",
       "      <td>1.42</td>\n",
       "      <td>2</td>\n",
       "      <td>124470</td>\n",
       "    </tr>\n",
       "  </tbody>\n",
       "</table>\n",
       "</div>"
      ],
      "text/plain": [
       "         Day  Advertising_Spend  Number_of_Visitors  Average_Session_Duration  \\\n",
       "0 2021-10-01       28008.521469               19925                      3.54   \n",
       "1 2021-10-02       20812.773757               33385                      1.40   \n",
       "2 2021-10-03       22878.770076               38600                      1.33   \n",
       "3 2021-10-04       11876.136172               19424                      3.48   \n",
       "4 2021-10-05       33387.536319               21196                      3.48   \n",
       "\n",
       "   Page_Load_Time  Day_of_Week  Impressions  \n",
       "0            4.91            5       140811  \n",
       "1            3.00            6        82038  \n",
       "2            1.35            7        36693  \n",
       "3            3.12            1        76526  \n",
       "4            1.42            2       124470  "
      ]
     },
     "execution_count": 6,
     "metadata": {},
     "output_type": "execute_result"
    }
   ],
   "source": [
    "le=LabelEncoder()\n",
    "foot_print['Day_of_Week']=foot_print.Day.dt.day_of_week+1\n",
    "foot_print.head()"
   ]
  },
  {
   "cell_type": "code",
   "execution_count": 7,
   "metadata": {},
   "outputs": [
    {
     "data": {
      "text/html": [
       "<div>\n",
       "<style scoped>\n",
       "    .dataframe tbody tr th:only-of-type {\n",
       "        vertical-align: middle;\n",
       "    }\n",
       "\n",
       "    .dataframe tbody tr th {\n",
       "        vertical-align: top;\n",
       "    }\n",
       "\n",
       "    .dataframe thead th {\n",
       "        text-align: right;\n",
       "    }\n",
       "</style>\n",
       "<table border=\"1\" class=\"dataframe\">\n",
       "  <thead>\n",
       "    <tr style=\"text-align: right;\">\n",
       "      <th></th>\n",
       "      <th>Day</th>\n",
       "      <th>Advertising_Spend</th>\n",
       "      <th>Average_Session_Duration</th>\n",
       "      <th>Page_Load_Time</th>\n",
       "      <th>Day_of_Week</th>\n",
       "      <th>Avg_imp_per_visitor</th>\n",
       "    </tr>\n",
       "  </thead>\n",
       "  <tbody>\n",
       "    <tr>\n",
       "      <th>0</th>\n",
       "      <td>2021-10-01</td>\n",
       "      <td>28008.521469</td>\n",
       "      <td>3.54</td>\n",
       "      <td>4.91</td>\n",
       "      <td>5</td>\n",
       "      <td>7.067051</td>\n",
       "    </tr>\n",
       "    <tr>\n",
       "      <th>1</th>\n",
       "      <td>2021-10-02</td>\n",
       "      <td>20812.773757</td>\n",
       "      <td>1.40</td>\n",
       "      <td>3.00</td>\n",
       "      <td>6</td>\n",
       "      <td>2.457331</td>\n",
       "    </tr>\n",
       "    <tr>\n",
       "      <th>2</th>\n",
       "      <td>2021-10-03</td>\n",
       "      <td>22878.770076</td>\n",
       "      <td>1.33</td>\n",
       "      <td>1.35</td>\n",
       "      <td>7</td>\n",
       "      <td>0.950596</td>\n",
       "    </tr>\n",
       "    <tr>\n",
       "      <th>3</th>\n",
       "      <td>2021-10-04</td>\n",
       "      <td>11876.136172</td>\n",
       "      <td>3.48</td>\n",
       "      <td>3.12</td>\n",
       "      <td>1</td>\n",
       "      <td>3.939765</td>\n",
       "    </tr>\n",
       "    <tr>\n",
       "      <th>4</th>\n",
       "      <td>2021-10-05</td>\n",
       "      <td>33387.536319</td>\n",
       "      <td>3.48</td>\n",
       "      <td>1.42</td>\n",
       "      <td>2</td>\n",
       "      <td>5.872334</td>\n",
       "    </tr>\n",
       "  </tbody>\n",
       "</table>\n",
       "</div>"
      ],
      "text/plain": [
       "         Day  Advertising_Spend  Average_Session_Duration  Page_Load_Time  \\\n",
       "0 2021-10-01       28008.521469                      3.54            4.91   \n",
       "1 2021-10-02       20812.773757                      1.40            3.00   \n",
       "2 2021-10-03       22878.770076                      1.33            1.35   \n",
       "3 2021-10-04       11876.136172                      3.48            3.12   \n",
       "4 2021-10-05       33387.536319                      3.48            1.42   \n",
       "\n",
       "   Day_of_Week  Avg_imp_per_visitor  \n",
       "0            5             7.067051  \n",
       "1            6             2.457331  \n",
       "2            7             0.950596  \n",
       "3            1             3.939765  \n",
       "4            2             5.872334  "
      ]
     },
     "execution_count": 7,
     "metadata": {},
     "output_type": "execute_result"
    }
   ],
   "source": [
    "foot_print['Avg_imp_per_visitor']=foot_print.Impressions/foot_print.Number_of_Visitors\n",
    "foot_print.drop(columns=['Number_of_Visitors','Impressions'],\n",
    "                axis=1,\n",
    "                inplace=True)\n",
    "foot_print.head()"
   ]
  },
  {
   "cell_type": "markdown",
   "metadata": {},
   "source": [
    "## EDA"
   ]
  },
  {
   "cell_type": "code",
   "execution_count": null,
   "metadata": {},
   "outputs": [],
   "source": []
  }
 ],
 "metadata": {
  "kernelspec": {
   "display_name": "cash_rewards_task-yYhTm1sl",
   "language": "python",
   "name": "python3"
  },
  "language_info": {
   "codemirror_mode": {
    "name": "ipython",
    "version": 3
   },
   "file_extension": ".py",
   "mimetype": "text/x-python",
   "name": "python",
   "nbconvert_exporter": "python",
   "pygments_lexer": "ipython3",
   "version": "3.9.13"
  }
 },
 "nbformat": 4,
 "nbformat_minor": 2
}
